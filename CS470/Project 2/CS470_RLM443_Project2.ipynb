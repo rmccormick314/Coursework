{
  "cells": [
    {
      "cell_type": "markdown",
      "metadata": {
        "id": "4u0dM4Gq1aNH"
      },
      "source": [
        "# Use CSP to solve Sudoku problem\n",
        "\n",
        "**FOLLOW THE INSTRUCTION! IF I CANNOT READ IT, I CANNOT GRADE IT!**\n",
        "\n",
        "If you want to modify the function (name, parameters, etc.), put comments there and explain your logic!\n"
      ]
    },
    {
      "cell_type": "markdown",
      "metadata": {
        "id": "6aydcLKe1ryB"
      },
      "source": [
        "## Create puzzle\n"
      ]
    },
    {
      "cell_type": "code",
      "execution_count": 2,
      "metadata": {
        "colab": {
          "base_uri": "https://localhost:8080/"
        },
        "id": "Uroevb2Y1Wto",
        "outputId": "5f61655d-79a7-400d-ea4c-d64674f14bfa"
      },
      "outputs": [
        {
          "output_type": "stream",
          "name": "stdout",
          "text": [
            "6 1 0 0 0 0 0 4 0\n",
            "0 4 0 0 0 0 0 0 0\n",
            "0 0 2 0 0 7 0 0 5\n",
            "0 0 0 9 0 3 0 0 7\n",
            "0 2 0 6 0 0 0 0 0\n",
            "0 0 9 7 2 0 0 0 0\n",
            "0 0 0 0 0 0 0 7 1\n",
            "8 0 0 0 6 0 0 0 0\n",
            "2 0 0 0 0 0 0 0 3\n"
          ]
        }
      ],
      "source": [
        "from random import sample\n",
        "def create_game(base=3, side = 9):\n",
        "  # pattern for a baseline valid solution\n",
        "  def pattern(r,c):\n",
        "    return (base*(r%base)+r//base+c)%side\n",
        "\n",
        "  # randomize rows, columns and numbers (of valid base pattern)\n",
        "  def shuffle(s):\n",
        "    return sample(s,len(s))\n",
        "\n",
        "  def remove_cells(board, ratio = 0.75):\n",
        "    squares = side*side\n",
        "    empties = int(squares * ratio)\n",
        "    for p in sample(range(squares),empties):\n",
        "        board[p//side][p%side] = 0\n",
        "\n",
        "    numSize = len(str(side))\n",
        "    return board\n",
        "\n",
        "  rBase = range(base)\n",
        "  rows  = [ g*base + r for g in shuffle(rBase) for r in shuffle(rBase) ]\n",
        "  cols  = [ g*base + c for g in shuffle(rBase) for c in shuffle(rBase) ]\n",
        "  nums  = shuffle(range(1,base*base+1))\n",
        "\n",
        "  # produce board using randomized baseline pattern\n",
        "  board = [ [nums[pattern(r,c)] for c in cols] for r in rows ]\n",
        "  return remove_cells(board)\n",
        "\n",
        "board = create_game()\n",
        "\n",
        "def print_board(board):\n",
        "  for row in board:\n",
        "    print(\" \".join(map(str, row)))\n",
        "\n",
        "print_board(board)"
      ]
    },
    {
      "cell_type": "markdown",
      "metadata": {
        "id": "bMWhTdHw4qx4"
      },
      "source": [
        "## Sudoku CSP Definition\n",
        "\n",
        "**Variables:** Open Cells C(x, y) for x, y in range(1, 9).  \n",
        "**Domains:** Possible Values D(x) for x in range(1, 9).  \n",
        "**Constraints:**\n",
        "*   Each *row* must have exactly 1 of each value.\n",
        "*   Each *column* must have exactly 1 of each value.\n",
        "*   Each *3x3* square must have exactly 1 of each value.\n",
        "*   Every cell must be filled with a non-zero number."
      ]
    },
    {
      "cell_type": "markdown",
      "metadata": {
        "id": "4QbFf3Mm4xhY"
      },
      "source": [
        "## Backtracking\n",
        "\n",
        "Solve with Backtracking algorithm\n",
        "\n",
        "If you do not like the following function design, please feel free to modify it. Add comments to explain the logic."
      ]
    },
    {
      "cell_type": "code",
      "execution_count": 1,
      "metadata": {
        "id": "VwV3pKmF5D4H"
      },
      "outputs": [],
      "source": [
        "def getUnsiganedVariable( board ):\n",
        "  \"\"\"\n",
        "  Gets the first unassigned variable on the board\n",
        "\n",
        "  :param board: Game board to get variable from\n",
        "  :return: Coordinates of unassigned variable (tuple) or failure (-1)\n",
        "  \"\"\"\n",
        "  # Initialize return variable with failure state\n",
        "  var = -1\n",
        "\n",
        "  # Search rows...\n",
        "  for x in range( 9 ):\n",
        "    # Search columns...\n",
        "    for y in range( 9 ):\n",
        "      # If we find an empty spot,\n",
        "      if board[ x ][ y ] == 0:\n",
        "        return (x, y) # Return the empty spot\n",
        "\n",
        "  # Otherwise, return failure\n",
        "  return var"
      ]
    },
    {
      "cell_type": "code",
      "execution_count": 3,
      "metadata": {
        "id": "CB_5FAYN5LQr"
      },
      "outputs": [],
      "source": [
        "def isValidAssignment( board, cur_pos, digit ):\n",
        "  \"\"\"\n",
        "  Checks the board to see if an assignment is valid\n",
        "\n",
        "  :param board: Game board to check\n",
        "  :param cur_pos: Coordinates of position to check\n",
        "  :param digit: Digit to check\n",
        "  :return: Valid (bool)\n",
        "  \"\"\"\n",
        "  # Initialize return variable\n",
        "  valid = False\n",
        "\n",
        "  # Shortcut coordinates\n",
        "  x = cur_pos[ 0 ]\n",
        "  y = cur_pos[ 1 ]\n",
        "\n",
        "  # Currently valid digits for this location\n",
        "  valid_digits = [ 1, 2, 3, 4, 5, 6, 7, 8, 9 ]\n",
        "\n",
        "  # Check row and column if for validity\n",
        "  for i in range( 9 ):\n",
        "    if board[ i ][ y ] in valid_digits:\n",
        "      valid_digits.remove( board[ i ][ y ] )\n",
        "    if board[ x ][ i ] in valid_digits:\n",
        "      valid_digits.remove( board[ x ][ i ] )\n",
        "\n",
        "  # Check local 3x3 square for validity\n",
        "  for i in range(3):\n",
        "        for j in range(3):\n",
        "            if(board[i + x - x%3][j + y - y%3] in valid_digits):\n",
        "                valid_digits.remove( board[i + x - x%3][j + y - y%3] )\n",
        "\n",
        "  # If digit remains in valid_digits, the move is valid\n",
        "  if digit in valid_digits:\n",
        "    valid = True\n",
        "\n",
        "  return valid"
      ]
    },
    {
      "cell_type": "code",
      "execution_count": 4,
      "metadata": {
        "id": "bY93QnBm6QUE"
      },
      "outputs": [],
      "source": [
        "import time\n",
        "\n",
        "def backtrackingSolver(board):\n",
        "  \"\"\"\n",
        "  Recursive backtracking sudoku solver\n",
        "\n",
        "  :param board: Game board to check\n",
        "  :return: Solution (board) or Failure (bool)\n",
        "  \"\"\"\n",
        "  # Get next open board slot\n",
        "  pos = getUnsiganedVariable( board )\n",
        "\n",
        "  # If no more open slots, board is solved\n",
        "  if pos == -1:\n",
        "    return board\n",
        "\n",
        "  # Check each digit available\n",
        "  for i in range(1, 10):\n",
        "    # Check if digit is valid placement\n",
        "    if isValidAssignment( board, pos, i ):\n",
        "      # If valid, assign to board\n",
        "      board[pos[0]][pos[1]] = i\n",
        "\n",
        "      # If next slot fills successfully, pass back up\n",
        "      if backtrackingSolver( board ) != False:\n",
        "        return board\n",
        "\n",
        "      # Otherwise reset the slot and try next digit\n",
        "      board[pos[0]][pos[1]] = 0\n",
        "\n",
        "  # If slot can't be filled, return failure\n",
        "  return False"
      ]
    },
    {
      "cell_type": "code",
      "execution_count": 7,
      "metadata": {
        "colab": {
          "base_uri": "https://localhost:8080/"
        },
        "id": "TakmuFV56TLJ",
        "outputId": "fd2519a1-eca1-4798-f412-603ce142cfe7"
      },
      "outputs": [
        {
          "output_type": "stream",
          "name": "stdout",
          "text": [
            "Completed in: 31.456 seconds.\n",
            "3 5 6 7 4 8 1 9 2\n",
            "8 4 7 2 1 9 5 3 6\n",
            "1 9 2 6 5 3 4 8 7\n",
            "2 1 9 4 3 6 8 7 5\n",
            "6 3 4 5 8 7 9 2 1\n",
            "7 8 5 1 9 2 3 6 4\n",
            "5 2 3 8 6 4 7 1 9\n",
            "9 7 1 3 2 5 6 4 8\n",
            "4 6 8 9 7 1 2 5 3\n"
          ]
        }
      ],
      "source": [
        "board = create_game()\n",
        "\n",
        "startTime = time.time()\n",
        "board = backtrackingSolver(board)\n",
        "print( \"Completed in: \" + str( round( time.time()-startTime, 3 ) ) + \" seconds.\" )\n",
        "\n",
        "print_board(board)"
      ]
    },
    {
      "cell_type": "markdown",
      "metadata": {
        "id": "K_6VK4OB5Lct"
      },
      "source": [
        "## Forward Checking + Minimum Remaining Values\n",
        "\n",
        "Please feel free to modify the function design. Add comments to explain the logic."
      ]
    },
    {
      "cell_type": "code",
      "execution_count": 8,
      "metadata": {
        "id": "pSWb0EG69W51"
      },
      "outputs": [],
      "source": [
        "def createDomains(board):\n",
        "  \"\"\"\n",
        "  Creates valid domains for each cell of a game board.\n",
        "\n",
        "  :param board: The game board to create domains for\n",
        "  :return: 2D array of domains (list)\n",
        "  \"\"\"\n",
        "  # Initialize the domains as a 2D array\n",
        "  domains = {}\n",
        "\n",
        "  # Iterate over the rows\n",
        "  for x in range( 9 ):\n",
        "    # Iterate over the cols\n",
        "    for y in range( 9 ):\n",
        "      # Create a full domain for the current cell\n",
        "      localDomain = [ 1, 2, 3, 4, 5, 6, 7, 8, 9 ]\n",
        "\n",
        "      # Remove the current location from domains\n",
        "      if board[x][y] in localDomain:\n",
        "        localDomain.remove( board[x][y] )\n",
        "\n",
        "      # Remove any entries in current row/col from domain\n",
        "      for i in range( 9 ):\n",
        "        if board[x][i] in localDomain:\n",
        "          localDomain.remove( board[x][i] )\n",
        "        if board[i][y] in localDomain:\n",
        "          localDomain.remove( board[i][y] )\n",
        "\n",
        "      # Calculate the entries in the square at current position\n",
        "        for i in range(3):\n",
        "          for j in range(3):\n",
        "              if(board[i + x - x%3][j + y - y%3] in localDomain):\n",
        "                  localDomain.remove( board[i + x - x%3][j + y - y%3] )\n",
        "\n",
        "      # Assign finished local domain to final domain list\n",
        "      domains[ ( x, y ) ] = localDomain\n",
        "\n",
        "  return( domains )"
      ]
    },
    {
      "cell_type": "code",
      "execution_count": 9,
      "metadata": {
        "id": "i9qHQBj37AVd"
      },
      "outputs": [],
      "source": [
        "def isValidAssignment(cur_pos, digit, domains):\n",
        "  \"\"\"\n",
        "  Checks an assignment to see if it is valid.\n",
        "\n",
        "  :param cur_pos: Tuple of current coordinates.\n",
        "  :param digit:   Digit (int) to check placement of.\n",
        "  :param domains: List of domains for board.\n",
        "  :return: Assignment (bool) indicating validity\n",
        "  \"\"\"\n",
        "  # Initialize return variable\n",
        "  assignment = False\n",
        "\n",
        "  # If the digit is within the domain of current position\n",
        "  if( digit in domains[ cur_pos ] ):\n",
        "    # It is a valid digit\n",
        "    assignment = True\n",
        "\n",
        "  # Returns the boolean\n",
        "  return assignment"
      ]
    },
    {
      "cell_type": "code",
      "execution_count": 10,
      "metadata": {
        "id": "TQE7Ssg28Fqh"
      },
      "outputs": [],
      "source": [
        "def getUnsignedVariable( domains ):\n",
        "  \"\"\"\n",
        "  Gets an unassigned variable with the least remaining values.\n",
        "\n",
        "  :param domains: The domains for the current game board.\n",
        "  :return: Dictionary of best value coords and domain.\n",
        "  \"\"\"\n",
        "  # Initialize domain to be returned - biggest possible domain\n",
        "  val = [ 1,2,3,4,5,6,7,8,9 ]\n",
        "  # Initialize coordinates. -1 indicates failure\n",
        "  best = -1\n",
        "\n",
        "  # Iterates over the coordinates in domains\n",
        "  for cord in domains:\n",
        "    # If the cord is empty and the domains is smaller than current\n",
        "    if( ( len( domains[ cord ] ) < len( val ) ) and\n",
        "        ( board[ cord[ 0 ] ][ cord[ 1 ] ] == 0 ) ):\n",
        "      # Update new smallest domain\n",
        "      val = domains[ cord ]\n",
        "      # Update new best cord\n",
        "      best = cord\n",
        "\n",
        "  # Return best coord and domain\n",
        "  return { best: val }"
      ]
    },
    {
      "cell_type": "code",
      "source": [
        "def forwardChecking( domain ):\n",
        "    \"\"\"\n",
        "    Forward checking game board solver.\n",
        "\n",
        "    :param board: Current state of the board\n",
        "    :param domain: Domains for each position on the board\n",
        "    :return: Solved (bool)\n",
        "    \"\"\"\n",
        "    # If the board contains no empty positions\n",
        "    if all( all( cell != 0 for cell in row ) for row in board ):\n",
        "        # All variables are assigned, solution found\n",
        "        return True\n",
        "\n",
        "    # Get info for position with LRV\n",
        "    currentVal = getUnsignedVariable( domain )\n",
        "    currentPos = list( currentVal.keys() )[ 0 ]\n",
        "    currentDom = list( currentVal.values() )[ 0 ]\n",
        "\n",
        "    # If the current position has valid moves\n",
        "    if currentDom:\n",
        "        # Iterate over the possible moves\n",
        "        for value in currentDom:\n",
        "            # Get updated info (in case domain changed)\n",
        "            currentDom = list( getUnsignedVariable( domain ).values() )[ 0 ]\n",
        "\n",
        "            # Check for a valid assignment from domain\n",
        "            if isValidAssignment( currentPos, value, domain ):\n",
        "                # Assign value and update domain\n",
        "                board[ currentPos[ 0 ] ][ currentPos[ 1 ] ] = value\n",
        "                newDomain = createDomains( board )\n",
        "\n",
        "                # Forward check the next position\n",
        "                if forwardChecking( newDomain ):\n",
        "                    return True\n",
        "\n",
        "                # If the current assignment didn't lead to a solution, backtrack\n",
        "                board[ currentPos[ 0 ] ][ currentPos[ 1 ] ] = 0\n",
        "\n",
        "    # No valid assignment found, return False\n",
        "    return False"
      ],
      "metadata": {
        "id": "_9YzkrYHcZwS"
      },
      "execution_count": 11,
      "outputs": []
    },
    {
      "cell_type": "code",
      "execution_count": 12,
      "metadata": {
        "id": "badAUEor-8Ya"
      },
      "outputs": [],
      "source": [
        "import time\n",
        "\n",
        "def FC_solver(board):\n",
        "  \"\"\"\n",
        "  Solves a game board using forward checking\n",
        "\n",
        "  :param board: The game board to create domains for\n",
        "  :return: Solved board (or unsolved if solution not possible)\n",
        "  \"\"\"\n",
        "  # Start timer and create domains\n",
        "  startTime = time.time()\n",
        "  domains = createDomains(board)\n",
        "\n",
        "  # val holds possible values of the cell\n",
        "  assignment = {(i, j): val for (i, j), val in domains.items()}\n",
        "\n",
        "  if forwardChecking(assignment):\n",
        "    print( \"Completed in: \" + str( round( time.time()-startTime, 3 ) ) + \" seconds.\" )\n",
        "    return board\n",
        "  return board\n"
      ]
    },
    {
      "cell_type": "code",
      "execution_count": 30,
      "metadata": {
        "colab": {
          "base_uri": "https://localhost:8080/"
        },
        "id": "y7Ooed9n0qEo",
        "outputId": "604dee09-207f-4269-da7f-39df11c67d45"
      },
      "outputs": [
        {
          "output_type": "stream",
          "name": "stdout",
          "text": [
            "Completed in: 1.846 seconds.\n"
          ]
        },
        {
          "output_type": "execute_result",
          "data": {
            "text/plain": [
              "[[4, 9, 6, 8, 2, 7, 3, 1, 5],\n",
              " [5, 7, 2, 1, 3, 9, 6, 8, 4],\n",
              " [1, 3, 8, 4, 6, 5, 9, 7, 2],\n",
              " [9, 1, 7, 5, 4, 2, 8, 3, 6],\n",
              " [2, 4, 3, 9, 8, 6, 1, 5, 7],\n",
              " [6, 8, 5, 7, 1, 3, 4, 2, 9],\n",
              " [3, 5, 1, 2, 9, 4, 7, 6, 8],\n",
              " [8, 2, 4, 6, 7, 1, 5, 9, 3],\n",
              " [7, 6, 9, 3, 5, 8, 2, 4, 1]]"
            ]
          },
          "metadata": {},
          "execution_count": 30
        }
      ],
      "source": [
        "board = create_game()\n",
        "FC_solver(board)"
      ]
    }
  ],
  "metadata": {
    "colab": {
      "collapsed_sections": [
        "6aydcLKe1ryB"
      ],
      "provenance": []
    },
    "kernelspec": {
      "display_name": "Python 3",
      "name": "python3"
    },
    "language_info": {
      "name": "python"
    }
  },
  "nbformat": 4,
  "nbformat_minor": 0
}